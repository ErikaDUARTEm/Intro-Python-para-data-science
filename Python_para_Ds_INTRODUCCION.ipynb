{
  "nbformat": 4,
  "nbformat_minor": 0,
  "metadata": {
    "colab": {
      "provenance": [],
      "authorship_tag": "ABX9TyNwD8fCJ2JgE2ve4K4B7mnD",
      "include_colab_link": true
    },
    "kernelspec": {
      "name": "python3",
      "display_name": "Python 3"
    },
    "language_info": {
      "name": "python"
    }
  },
  "cells": [
    {
      "cell_type": "markdown",
      "metadata": {
        "id": "view-in-github",
        "colab_type": "text"
      },
      "source": [
        "<a href=\"https://colab.research.google.com/github/ErikaDUARTEm/Intro-Python-para-data-science/blob/main/Python_para_Ds_INTRODUCCION.ipynb\" target=\"_parent\"><img src=\"https://colab.research.google.com/assets/colab-badge.svg\" alt=\"Open In Colab\"/></a>"
      ]
    },
    {
      "cell_type": "markdown",
      "source": [
        "#**Python para DS--Introducción al lenguaje**"
      ],
      "metadata": {
        "id": "ZnelpMRIBz3y"
      }
    },
    {
      "cell_type": "code",
      "execution_count": null,
      "metadata": {
        "colab": {
          "base_uri": "https://localhost:8080/"
        },
        "id": "zwaVastXBMmR",
        "outputId": "ac642db8-6ae5-4f09-c902-4f82ac8165e9"
      },
      "outputs": [
        {
          "output_type": "execute_result",
          "data": {
            "text/plain": [
              "2"
            ]
          },
          "metadata": {},
          "execution_count": 2
        }
      ],
      "source": [
        "1 + 1"
      ]
    },
    {
      "cell_type": "code",
      "source": [
        "'Erika'"
      ],
      "metadata": {
        "colab": {
          "base_uri": "https://localhost:8080/",
          "height": 35
        },
        "id": "yihemWWrClIG",
        "outputId": "081fe4bf-a920-45e8-b2c0-a2a14af75a7d"
      },
      "execution_count": null,
      "outputs": [
        {
          "output_type": "execute_result",
          "data": {
            "text/plain": [
              "'Erika'"
            ],
            "application/vnd.google.colaboratory.intrinsic+json": {
              "type": "string"
            }
          },
          "metadata": {},
          "execution_count": 4
        }
      ]
    },
    {
      "cell_type": "code",
      "source": [
        "nombre = 'Erika'"
      ],
      "metadata": {
        "id": "F5pY7I0PEkkd"
      },
      "execution_count": null,
      "outputs": []
    },
    {
      "cell_type": "code",
      "source": [
        "nombre"
      ],
      "metadata": {
        "colab": {
          "base_uri": "https://localhost:8080/",
          "height": 35
        },
        "id": "7j1UuJUgEoE7",
        "outputId": "672de91c-41c3-4ece-ea40-6dd1a995d2e5"
      },
      "execution_count": null,
      "outputs": [
        {
          "output_type": "execute_result",
          "data": {
            "text/plain": [
              "'Erika'"
            ],
            "application/vnd.google.colaboratory.intrinsic+json": {
              "type": "string"
            }
          },
          "metadata": {},
          "execution_count": 6
        }
      ]
    },
    {
      "cell_type": "code",
      "source": [
        "edad = 35"
      ],
      "metadata": {
        "id": "LvbjysXVEpUX"
      },
      "execution_count": null,
      "outputs": []
    },
    {
      "cell_type": "code",
      "source": [
        "edad"
      ],
      "metadata": {
        "colab": {
          "base_uri": "https://localhost:8080/"
        },
        "id": "V13uGw_aEzyq",
        "outputId": "f4d91483-5d57-425e-f265-b3bdfee4cca2"
      },
      "execution_count": null,
      "outputs": [
        {
          "output_type": "execute_result",
          "data": {
            "text/plain": [
              "35"
            ]
          },
          "metadata": {},
          "execution_count": 12
        }
      ]
    },
    {
      "cell_type": "markdown",
      "source": [
        "# Mi primera función\n"
      ],
      "metadata": {
        "id": "IiZNARPkFnOb"
      }
    },
    {
      "cell_type": "code",
      "source": [
        "print('El nombre es Erika y su edad es 34 años')"
      ],
      "metadata": {
        "colab": {
          "base_uri": "https://localhost:8080/"
        },
        "id": "5T5L_ekZE1aU",
        "outputId": "3b61e16b-70ea-4ec2-e20e-f2a340ab3a27"
      },
      "execution_count": null,
      "outputs": [
        {
          "output_type": "stream",
          "name": "stdout",
          "text": [
            "El nombre es Erika y su edad es 34 años\n"
          ]
        }
      ]
    },
    {
      "cell_type": "code",
      "source": [
        "print(f'El nombre es {nombre} y su edad es {edad} años')"
      ],
      "metadata": {
        "colab": {
          "base_uri": "https://localhost:8080/"
        },
        "id": "RZHo8xDlFkOa",
        "outputId": "3097fb8a-bf9f-4222-f217-695a81d6bb52"
      },
      "execution_count": null,
      "outputs": [
        {
          "output_type": "stream",
          "name": "stdout",
          "text": [
            "El nombre es Erika y su edad es 35 años\n"
          ]
        }
      ]
    },
    {
      "cell_type": "code",
      "source": [
        "def saludar():\n",
        "  nombre = input('Digite su nombre: ')\n",
        "  print(f'Hola {nombre} sea Bienvenido!!!')"
      ],
      "metadata": {
        "id": "q_GOH2FCGL5m"
      },
      "execution_count": null,
      "outputs": []
    },
    {
      "cell_type": "code",
      "source": [
        "saludar"
      ],
      "metadata": {
        "colab": {
          "base_uri": "https://localhost:8080/"
        },
        "id": "iw-TGxZ9G1lO",
        "outputId": "f4a45670-874c-4c81-eb95-4af15c9e7233"
      },
      "execution_count": null,
      "outputs": [
        {
          "output_type": "execute_result",
          "data": {
            "text/plain": [
              "<function __main__.saludar()>"
            ]
          },
          "metadata": {},
          "execution_count": 16
        }
      ]
    },
    {
      "cell_type": "code",
      "source": [
        "saludar()"
      ],
      "metadata": {
        "colab": {
          "base_uri": "https://localhost:8080/"
        },
        "id": "Ti2NfzE6G5S_",
        "outputId": "2602aafe-5d76-4435-e475-b13f004b8f7a"
      },
      "execution_count": null,
      "outputs": [
        {
          "output_type": "stream",
          "name": "stdout",
          "text": [
            "Digite su nombre: Erika\n",
            "Hola Erika sea Bienvenido!!!\n"
          ]
        }
      ]
    },
    {
      "cell_type": "code",
      "source": [
        "saludar()"
      ],
      "metadata": {
        "colab": {
          "base_uri": "https://localhost:8080/"
        },
        "id": "qOqoy_7AG-ZB",
        "outputId": "e67d9d57-9ee7-40c1-ef12-8361c389077c"
      },
      "execution_count": null,
      "outputs": [
        {
          "output_type": "stream",
          "name": "stdout",
          "text": [
            "Digite su nombre: Aaron\n",
            "Hola Aaron sea Bienvenido!!!\n"
          ]
        }
      ]
    },
    {
      "cell_type": "code",
      "source": [
        "def nombre_completo():\n",
        "   primer_nombre = input('¿Cuál es tu primer nombre? ')\n",
        "   apellido = input('¿Cuál es tu apellido? ')\n",
        "   nombre_completo = primer_nombre + ' ' + apellido\n",
        "   print(nombre_completo)\n",
        "nombre_completo()\n"
      ],
      "metadata": {
        "colab": {
          "base_uri": "https://localhost:8080/"
        },
        "id": "cfXzSyX-HEv3",
        "outputId": "e3682977-bda2-4144-fd8a-69477c35bb05"
      },
      "execution_count": null,
      "outputs": [
        {
          "output_type": "stream",
          "name": "stdout",
          "text": [
            "¿Cuál es tu primer nombre? Erika\n",
            "¿Cuál es tu apellido? Duarte\n",
            "Erika Duarte\n"
          ]
        }
      ]
    },
    {
      "cell_type": "code",
      "source": [
        "nombre = 'Andrea'"
      ],
      "metadata": {
        "id": "ZfXnyOklHkkq"
      },
      "execution_count": null,
      "outputs": []
    },
    {
      "cell_type": "markdown",
      "source": [
        "#**Parametros**\n"
      ],
      "metadata": {
        "id": "zLHeP90JUpHQ"
      }
    },
    {
      "cell_type": "code",
      "source": [
        "def saludar_con_parametros(nombre):\n",
        "  print(f'Hola {nombre} sea bienveni@!!!')"
      ],
      "metadata": {
        "id": "aTtv-zskUGc8"
      },
      "execution_count": null,
      "outputs": []
    },
    {
      "cell_type": "code",
      "source": [
        "saludar_con_parametros(nombre)"
      ],
      "metadata": {
        "colab": {
          "base_uri": "https://localhost:8080/"
        },
        "id": "W9m7lHndUNxF",
        "outputId": "34f57510-4135-4f77-ff61-b9ec69d35aeb"
      },
      "execution_count": null,
      "outputs": [
        {
          "output_type": "stream",
          "name": "stdout",
          "text": [
            "Hola Andrea sea bienveni@!!!\n"
          ]
        }
      ]
    },
    {
      "cell_type": "markdown",
      "source": [
        "#**Condicionales**"
      ],
      "metadata": {
        "id": "U4jgMLjKfn53"
      }
    },
    {
      "cell_type": "markdown",
      "source": [
        "** SIN parametros\n"
      ],
      "metadata": {
        "id": "RPawnQYKhAOg"
      }
    },
    {
      "cell_type": "code",
      "source": [
        "edad = 16"
      ],
      "metadata": {
        "id": "mK4dvKEqhzLq"
      },
      "execution_count": null,
      "outputs": []
    },
    {
      "cell_type": "code",
      "source": [
        "def verificar_si_puede_conducir_con_parametros(edad):\n",
        "  if edad >= 18:\n",
        "    print('usted tiene edad suficiente para conducir')\n",
        "  else:\n",
        "    print('Usted no tiene edad suficiente para conducir')\n",
        "verificar_si_puede_conducir_con_parametros(edad)"
      ],
      "metadata": {
        "colab": {
          "base_uri": "https://localhost:8080/"
        },
        "id": "g_OBOHAZg0LM",
        "outputId": "34b0b8f2-25a3-4dbd-a8ac-7a705cabad0b"
      },
      "execution_count": null,
      "outputs": [
        {
          "output_type": "stream",
          "name": "stdout",
          "text": [
            "Usted no tiene edad suficiente para conducir\n"
          ]
        }
      ]
    },
    {
      "cell_type": "code",
      "source": [
        "def verificar_si_puede_conducir():\n",
        "  edad = input('Ingrese su edad: ')\n",
        "  edad = int(edad)\n",
        "  if edad >= 18:\n",
        "    print('Usted tiene edad suficiente para conducir')\n",
        "  else:\n",
        "    print('usted no tiene edad suficiente para conducir')\n",
        "\n",
        "verificar_si_puede_conducir()"
      ],
      "metadata": {
        "colab": {
          "base_uri": "https://localhost:8080/"
        },
        "id": "aZpWR5XWUg2J",
        "outputId": "685bb56b-b77f-410a-ffba-a33c908a21e3"
      },
      "execution_count": null,
      "outputs": [
        {
          "output_type": "stream",
          "name": "stdout",
          "text": [
            "Ingrese su edad: 13\n",
            "usted no tiene edad suficiente para conducir\n"
          ]
        }
      ]
    },
    {
      "cell_type": "markdown",
      "source": [
        "#**Loop**\n"
      ],
      "metadata": {
        "id": "jZ2L6t5Jqpc3"
      }
    },
    {
      "cell_type": "markdown",
      "source": [
        "#Bucle fuera de la función\n"
      ],
      "metadata": {
        "id": "8HkZYyFyr_in"
      }
    },
    {
      "cell_type": "code",
      "source": [
        "edades = [18,15,12,45,50]\n",
        "def verificar_si_puede_conducir_con_parametros(edad):\n",
        "  if edad >= 18:\n",
        "    print('Usted tiene edad suficiente para conducir')\n",
        "  else:\n",
        "    print('Ud no tiene edad suficiente para conducir')\n",
        "\n",
        "for edad in edades:\n",
        "  verificar_si_puede_conducir_con_parametros(edad)"
      ],
      "metadata": {
        "colab": {
          "base_uri": "https://localhost:8080/"
        },
        "id": "WLotVvcwq3vI",
        "outputId": "028b4dc9-f31c-45f1-bd62-b85f42f8114b"
      },
      "execution_count": null,
      "outputs": [
        {
          "output_type": "stream",
          "name": "stdout",
          "text": [
            "Usted tiene edad suficiente para conducir\n",
            "Ud no tiene edad suficiente para conducir\n",
            "Ud no tiene edad suficiente para conducir\n",
            "Usted tiene edad suficiente para conducir\n",
            "Usted tiene edad suficiente para conducir\n"
          ]
        }
      ]
    },
    {
      "cell_type": "code",
      "source": [
        "edades = [18,15,12,45,50]\n",
        "def verificar_si_puede_conducir_con_bucle(edades):\n",
        "  for edad in edades:\n",
        "    if edad >= 18:\n",
        "      print('Usted tiene edad suficiente para conducir')\n",
        "    else:\n",
        "      print('Ud no tiene edad suficiente para conducir')\n",
        "verificar_si_puede_conducir_con_bucle(edades)\n"
      ],
      "metadata": {
        "colab": {
          "base_uri": "https://localhost:8080/"
        },
        "id": "4c_a8FsyrCq9",
        "outputId": "84649d38-9408-477c-d01e-c4f3cf736a87"
      },
      "execution_count": null,
      "outputs": [
        {
          "output_type": "stream",
          "name": "stdout",
          "text": [
            "Usted tiene edad suficiente para conducir\n",
            "Ud no tiene edad suficiente para conducir\n",
            "Ud no tiene edad suficiente para conducir\n",
            "Usted tiene edad suficiente para conducir\n",
            "Usted tiene edad suficiente para conducir\n"
          ]
        }
      ]
    },
    {
      "cell_type": "code",
      "source": [
        "verificaciones = []\n",
        "edades = [13, 15, 18]\n",
        "\n",
        "def verificar_si_puede_conducir_bool(verificaciones, edades):\n",
        "  for edad in edades:\n",
        "    if edad >= 18:\n",
        "      verificaciones.append(True)\n",
        "    else:\n",
        "      verificaciones.append(False)\n",
        "  for verificacion in verificaciones:\n",
        "    if verificacion == True:\n",
        "      print('Usted tiene edad suficiente para conducir')\n",
        "    else:\n",
        "      print('Ud no tiene edad suficiente para conducir')\n",
        "verificar_si_puede_conducir_bool(verificaciones, edades)\n"
      ],
      "metadata": {
        "colab": {
          "base_uri": "https://localhost:8080/"
        },
        "id": "ODePAmF2rAqV",
        "outputId": "90daea9f-a37c-4708-921b-140ad5297c85"
      },
      "execution_count": null,
      "outputs": [
        {
          "output_type": "stream",
          "name": "stdout",
          "text": [
            "Ud no tiene edad suficiente para conducir\n",
            "Ud no tiene edad suficiente para conducir\n",
            "Usted tiene edad suficiente para conducir\n"
          ]
        }
      ]
    },
    {
      "cell_type": "markdown",
      "source": [
        "#**Lista con diferentes tipos de datos**"
      ],
      "metadata": {
        "id": "B04u5CKg0IfW"
      }
    },
    {
      "cell_type": "code",
      "source": [
        "persona = ['Marina', 24, True, 'Mexico']\n",
        "persona"
      ],
      "metadata": {
        "colab": {
          "base_uri": "https://localhost:8080/"
        },
        "id": "tQqP_ntrynqW",
        "outputId": "f47e7e0d-9320-4efa-b927-df44f5605990"
      },
      "execution_count": null,
      "outputs": [
        {
          "output_type": "execute_result",
          "data": {
            "text/plain": [
              "['Marina', 24, True, 'Mexico']"
            ]
          },
          "metadata": {},
          "execution_count": 39
        }
      ]
    },
    {
      "cell_type": "code",
      "source": [
        "for elemento in persona:\n",
        "  print(f'El elemento {elemento} de la lista es del tipo ', type(elemento))"
      ],
      "metadata": {
        "colab": {
          "base_uri": "https://localhost:8080/"
        },
        "id": "Y6CS0G-o0b4p",
        "outputId": "20c1ce9e-251e-4ab8-8ee8-1c7360998320"
      },
      "execution_count": null,
      "outputs": [
        {
          "output_type": "stream",
          "name": "stdout",
          "text": [
            "El elemento Marina de la lista es del tipo  <class 'str'>\n",
            "El elemento 24 de la lista es del tipo  <class 'int'>\n",
            "El elemento True de la lista es del tipo  <class 'bool'>\n",
            "El elemento Mexico de la lista es del tipo  <class 'str'>\n"
          ]
        }
      ]
    },
    {
      "cell_type": "code",
      "source": [],
      "metadata": {
        "id": "-1GWgDu_0otI"
      },
      "execution_count": null,
      "outputs": []
    },
    {
      "cell_type": "markdown",
      "source": [
        "#**Importar library random**"
      ],
      "metadata": {
        "id": "buGlQZWk3HYV"
      }
    },
    {
      "cell_type": "code",
      "source": [
        "from random import randrange, seed"
      ],
      "metadata": {
        "id": "14wmPocI3Ncf"
      },
      "execution_count": null,
      "outputs": []
    },
    {
      "cell_type": "code",
      "source": [
        "randrange(0, 100)"
      ],
      "metadata": {
        "colab": {
          "base_uri": "https://localhost:8080/"
        },
        "id": "TXdAPJfY3vl_",
        "outputId": "859c944a-c33e-4b0f-b040-558db540b104"
      },
      "execution_count": null,
      "outputs": [
        {
          "output_type": "execute_result",
          "data": {
            "text/plain": [
              "90"
            ]
          },
          "metadata": {},
          "execution_count": 45
        }
      ]
    },
    {
      "cell_type": "code",
      "source": [
        "notas_matematicas = []\n"
      ],
      "metadata": {
        "id": "SHgd-fUl36ZW"
      },
      "execution_count": null,
      "outputs": []
    },
    {
      "cell_type": "code",
      "source": [
        "notas_matematicas.append(randrange(0,11))"
      ],
      "metadata": {
        "id": "zbqwFUM04m5z"
      },
      "execution_count": null,
      "outputs": []
    },
    {
      "cell_type": "code",
      "source": [
        "notas_matematicas"
      ],
      "metadata": {
        "colab": {
          "base_uri": "https://localhost:8080/"
        },
        "id": "5lLH8m4h4udD",
        "outputId": "04a00ebb-0dfc-4949-b859-811d962258f3"
      },
      "execution_count": null,
      "outputs": [
        {
          "output_type": "execute_result",
          "data": {
            "text/plain": [
              "[6, 2]"
            ]
          },
          "metadata": {},
          "execution_count": 51
        }
      ]
    },
    {
      "cell_type": "code",
      "source": [
        "notas_matematicas\n"
      ],
      "metadata": {
        "colab": {
          "base_uri": "https://localhost:8080/"
        },
        "id": "m12CcK9-4yuA",
        "outputId": "e1088f4d-19a8-480d-b16f-7ad822d21ddc"
      },
      "execution_count": null,
      "outputs": [
        {
          "output_type": "execute_result",
          "data": {
            "text/plain": [
              "[6, 2]"
            ]
          },
          "metadata": {},
          "execution_count": 52
        }
      ]
    },
    {
      "cell_type": "code",
      "source": [
        "notas_matematicas = []\n",
        "seed(8)\n",
        "for notas in range(6):\n",
        "  notas_matematicas.append(randrange(0,11))"
      ],
      "metadata": {
        "id": "ZywHFyvo4-01"
      },
      "execution_count": null,
      "outputs": []
    },
    {
      "cell_type": "code",
      "source": [
        "notas_matematicas"
      ],
      "metadata": {
        "colab": {
          "base_uri": "https://localhost:8080/"
        },
        "id": "UXKfztUA5XtY",
        "outputId": "e1c14eed-9316-42f5-b844-97d512e05551"
      },
      "execution_count": null,
      "outputs": [
        {
          "output_type": "execute_result",
          "data": {
            "text/plain": [
              "[3, 5, 6, 2, 3, 0]"
            ]
          },
          "metadata": {},
          "execution_count": 65
        }
      ]
    },
    {
      "cell_type": "code",
      "source": [
        "notas_matematicas"
      ],
      "metadata": {
        "colab": {
          "base_uri": "https://localhost:8080/"
        },
        "id": "UQiBf4Vi5ZQ6",
        "outputId": "97d96c3b-acd9-4646-c69e-35da64c3e308"
      },
      "execution_count": null,
      "outputs": [
        {
          "output_type": "execute_result",
          "data": {
            "text/plain": [
              "[2, 5, 9, 3, 1, 5]"
            ]
          },
          "metadata": {},
          "execution_count": 60
        }
      ]
    },
    {
      "cell_type": "code",
      "source": [
        "len(notas_matematicas)"
      ],
      "metadata": {
        "colab": {
          "base_uri": "https://localhost:8080/"
        },
        "id": "DRGPAp485dO0",
        "outputId": "3d36be01-d770-4067-82fd-8e6ce99b4692"
      },
      "execution_count": null,
      "outputs": [
        {
          "output_type": "execute_result",
          "data": {
            "text/plain": [
              "6"
            ]
          },
          "metadata": {},
          "execution_count": 56
        }
      ]
    },
    {
      "cell_type": "code",
      "source": [],
      "metadata": {
        "id": "G_1LmSwX6-Zn"
      },
      "execution_count": null,
      "outputs": []
    },
    {
      "cell_type": "markdown",
      "source": [
        "#**Biblioteca matplotlib para graficos**\n"
      ],
      "metadata": {
        "id": "xn3vuJrtHogZ"
      }
    },
    {
      "cell_type": "code",
      "source": [
        "import matplotlib.pyplot as plt"
      ],
      "metadata": {
        "id": "64Bxr-q-Ht3j"
      },
      "execution_count": null,
      "outputs": []
    },
    {
      "cell_type": "code",
      "source": [
        "list(range(1,7))"
      ],
      "metadata": {
        "colab": {
          "base_uri": "https://localhost:8080/"
        },
        "id": "AdIW2g3uICEm",
        "outputId": "84075802-3886-4c37-9357-4fe6af1b2f49"
      },
      "execution_count": null,
      "outputs": [
        {
          "output_type": "execute_result",
          "data": {
            "text/plain": [
              "[1, 2, 3, 4, 5, 6]"
            ]
          },
          "metadata": {},
          "execution_count": 67
        }
      ]
    },
    {
      "cell_type": "code",
      "source": [
        "x = list(range(1,7))\n"
      ],
      "metadata": {
        "id": "oDLEQiW9IRTa"
      },
      "execution_count": null,
      "outputs": []
    },
    {
      "cell_type": "code",
      "source": [
        "y = notas_matematicas\n"
      ],
      "metadata": {
        "id": "9DEqMnyXIcUE"
      },
      "execution_count": null,
      "outputs": []
    },
    {
      "cell_type": "code",
      "source": [
        "plt.plot(x,y, marker= 'o')\n",
        "plt.title('Grafico de las notas de matematicas')\n",
        "plt.xlabel('pruebas')\n",
        "plt.ylabel('notas')\n",
        "plt.show()"
      ],
      "metadata": {
        "colab": {
          "base_uri": "https://localhost:8080/",
          "height": 472
        },
        "id": "LnaAaDOMIlij",
        "outputId": "e38bc682-9a49-45a8-f2b6-63c2634a511c"
      },
      "execution_count": null,
      "outputs": [
        {
          "output_type": "display_data",
          "data": {
            "text/plain": [
              "<Figure size 640x480 with 1 Axes>"
            ],
            "image/png": "[encoded data removed]"
          },
          "metadata": {}
        }
      ]
    },
    {
      "cell_type": "code",
      "source": [],
      "metadata": {
        "id": "kLPjL0UbIs1c"
      },
      "execution_count": null,
      "outputs": []
    }
  ]
}